{
 "cells": [
  {
   "cell_type": "markdown",
   "metadata": {},
   "source": [
    "# Working thru Software Receiver Design\n",
    "\n",
    "On to Chapter 2\n",
    "\n",
    "## Synchronization notes\n",
    "Places where sync can occur (all on receiver side):\n",
    "* Symbol phase sync (when within the interval $T$ to sample)\n",
    "* Symbol freq sync (accounts for difference in oscilators at transmit and receive)\n",
    "* Carrier phase sync\n",
    "* Carrier freq sync\n",
    "* Frame sync (finding the start of each message block\n",
    "\n",
    "## Equalization\n",
    "Filtering to minimize the effects of intersymbol interference and frequency selective fading.\n",
    "\n",
    "## Coding and Decoding\n",
    "Coding is often making data redundant within a transmission. Coding is often making data redundant within a transmission. :P We'll look into Huffman code which makes frequent symbols shorter and infrequent symbols longer (like Morse code) \n",
    "\n",
    "Definitions:\n",
    "1. intersymbol interference - because of the transmission channel, multiple copies of the symbols (each scaled differently) show up at the receiver.\n",
    "2. frequency selective fading - the channel may atenuate different frequencies by different amounts (fast fading)\n",
    "3. channel capacity - the number of bits that can be sent in a certain bandwidth\n",
    "4. linear block codes - cluster symbols together and then add extra bits (e.g., parity bits)"
   ]
  },
  {
   "cell_type": "code",
   "execution_count": null,
   "metadata": {},
   "outputs": [],
   "source": []
  }
 ],
 "metadata": {
  "kernelspec": {
   "display_name": "Python 3",
   "language": "python",
   "name": "python3"
  },
  "language_info": {
   "codemirror_mode": {
    "name": "ipython",
    "version": 3
   },
   "file_extension": ".py",
   "mimetype": "text/x-python",
   "name": "python",
   "nbconvert_exporter": "python",
   "pygments_lexer": "ipython3",
   "version": "3.7.0"
  }
 },
 "nbformat": 4,
 "nbformat_minor": 2
}
